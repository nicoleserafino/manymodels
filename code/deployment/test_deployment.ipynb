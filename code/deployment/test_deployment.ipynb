{
 "cells": [
  {
   "cell_type": "markdown",
   "metadata": {},
   "source": [
    "### [Follow these steps to deploy the scoring function](https://docs.microsoft.com/en-us/azure/machine-learning/how-to-deploy-managed-online-endpoints)"
   ]
  },
  {
   "cell_type": "code",
   "execution_count": 159,
   "metadata": {},
   "outputs": [
    {
     "name": "stdout",
     "output_type": "stream",
     "text": [
      "upstream connect error or disconnect/reset before headers. reset reason: connection failure\n"
     ]
    }
   ],
   "source": [
    "import requests\n",
    "import pandas as pd\n",
    "import json\n",
    "for file_name in ['test_data_1000_dominicks.csv','test_data_1002_tropicana.csv']:\n",
    "    sample_data= pd.read_csv(file_name)\n",
    "    sample_data.drop(['Unnamed: 0'], axis=1, inplace=True)\n",
    "    #Use the below version of URL and header in case you test with remote web service (AKS)\n",
    "    url ='scoring URL'\n",
    "    api_key = '' # Replace this with the API key for the web service\n",
    "    headers = {'Content-Type':'application/json', 'Authorization':('Bearer '+ api_key)}\n",
    "\n",
    "    data = {\"Inputs\":sample_data.to_json() }\n",
    "    body = str.encode(json.dumps(data))\n",
    "    resp = requests.post(url, data=body, headers=headers)\n",
    "    print(resp.text)\n"
   ]
  },
  {
   "cell_type": "code",
   "execution_count": null,
   "metadata": {},
   "outputs": [],
   "source": []
  }
 ],
 "metadata": {
  "interpreter": {
   "hash": "01395c2bf5351d89929a188eaee14092f5abeb2f2ed0be057aa3ed6e35212c40"
  },
  "kernelspec": {
   "display_name": "Python 3.6.12 64-bit ('mlflow-1a43b1fcadd2a32c00a1972c5464ff374bda3f6b': conda)",
   "name": "python3"
  },
  "language_info": {
   "codemirror_mode": {
    "name": "ipython",
    "version": 3
   },
   "file_extension": ".py",
   "mimetype": "text/x-python",
   "name": "python",
   "nbconvert_exporter": "python",
   "pygments_lexer": "ipython3",
   "version": "3.8.5"
  },
  "orig_nbformat": 4
 },
 "nbformat": 4,
 "nbformat_minor": 2
}
